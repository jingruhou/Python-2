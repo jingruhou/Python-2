{
  "nbformat": 4,
  "nbformat_minor": 0,
  "metadata": {
    "colab": {
      "name": "hjr.ipynb",
      "version": "0.3.2",
      "provenance": [],
      "collapsed_sections": [],
      "toc_visible": true,
      "include_colab_link": true
    },
    "kernelspec": {
      "name": "python3",
      "display_name": "Python 3"
    }
  },
  "cells": [
    {
      "cell_type": "markdown",
      "metadata": {
        "id": "view-in-github",
        "colab_type": "text"
      },
      "source": [
        "[View in Colaboratory](https://colab.research.google.com/github/jingruhou/Python-2/blob/master/hjr/hjr.ipynb)"
      ]
    },
    {
      "metadata": {
        "id": "yX8szl2wG6B1",
        "colab_type": "text"
      },
      "cell_type": "markdown",
      "source": [
        "侯敬儒"
      ]
    }
  ]
}